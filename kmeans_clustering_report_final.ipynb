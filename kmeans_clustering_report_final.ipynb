{
 "cells": [
  {
   "cell_type": "markdown",
   "id": "0260687c",
   "metadata": {},
   "source": [
    "# Customer Segmentation Using K-Means Clustering\n",
    "This report performs customer segmentation using **K-Means Clustering**, a widely used unsupervised learning algorithm. It aims to group similar customers together based on their demographic and behavioral attributes. This type of analysis helps businesses tailor their services to specific customer segments."
   ]
  },
  {
   "cell_type": "markdown",
   "id": "416be47c",
   "metadata": {},
   "source": [
    "## Import Libraries"
   ]
  },
  {
   "cell_type": "code",
   "execution_count": null,
   "id": "3f281268",
   "metadata": {},
   "outputs": [],
   "source": [
    "import pandas as pd\n",
    "import numpy as np\n",
    "import matplotlib.pyplot as plt\n",
    "import seaborn as sns\n",
    "from sklearn.preprocessing import StandardScaler, OneHotEncoder\n",
    "from sklearn.impute import SimpleImputer\n",
    "from sklearn.compose import ColumnTransformer\n",
    "from sklearn.pipeline import Pipeline\n",
    "from sklearn.cluster import KMeans\n",
    "from sklearn.decomposition import PCA\n",
    "import warnings\n",
    "warnings.filterwarnings('ignore')"
   ]
  },
  {
   "cell_type": "markdown",
   "id": "b27502fe",
   "metadata": {},
   "source": [
    "## Load Dataset"
   ]
  },
  {
   "cell_type": "code",
   "execution_count": null,
   "id": "4660caf1",
   "metadata": {},
   "outputs": [],
   "source": [
    "train = pd.read_csv('Train.csv')\n",
    "test = pd.read_csv('Test.csv')\n",
    "train.head()"
   ]
  },
  {
   "cell_type": "markdown",
   "id": "79096eef",
   "metadata": {},
   "source": [
    "## Data Cleaning and Preprocessing\n",
    "Before performing clustering, we clean and preprocess the dataset:\n",
    "- Drop ID and target (`Segmentation`) column\n",
    "- Impute missing values\n",
    "- Convert categorical variables using One-Hot Encoding\n",
    "- Scale numeric features to have zero mean and unit variance"
   ]
  },
  {
   "cell_type": "code",
   "execution_count": null,
   "id": "d56f46d0",
   "metadata": {},
   "outputs": [],
   "source": [
    "data = train.drop(columns=['ID', 'Segmentation'])\n",
    "categorical_features = data.select_dtypes(include='object').columns.tolist()\n",
    "numerical_features = data.select_dtypes(exclude='object').columns.tolist()\n",
    "\n",
    "numeric_pipeline = Pipeline([\n",
    "    ('imputer', SimpleImputer(strategy='mean')),\n",
    "    ('scaler', StandardScaler())\n",
    "])\n",
    "\n",
    "categorical_pipeline = Pipeline([\n",
    "    ('imputer', SimpleImputer(strategy='most_frequent')),\n",
    "    ('encoder', OneHotEncoder(drop='first', sparse=False))\n",
    "])\n",
    "\n",
    "preprocessor = ColumnTransformer([\n",
    "    ('num', numeric_pipeline, numerical_features),\n",
    "    ('cat', categorical_pipeline, categorical_features)\n",
    "])\n",
    "\n",
    "processed_data = preprocessor.fit_transform(data)"
   ]
  },
  {
   "cell_type": "markdown",
   "id": "844be746",
   "metadata": {},
   "source": [
    "## Exploratory Data Analysis: Univariate Analysis\n",
    "We examine each feature individually to understand its distribution."
   ]
  },
  {
   "cell_type": "code",
   "execution_count": null,
   "id": "289df9b3",
   "metadata": {},
   "outputs": [],
   "source": [
    "fig, axes = plt.subplots(3, 3, figsize=(18, 12))\n",
    "axes = axes.flatten()\n",
    "for i, col in enumerate(data.columns):\n",
    "    if data[col].dtype == 'object':\n",
    "        sns.countplot(y=col, data=data, ax=axes[i])\n",
    "    else:\n",
    "        sns.histplot(data[col].dropna(), kde=True, ax=axes[i])\n",
    "    axes[i].set_title(f'Distribution of {col}')\n",
    "plt.tight_layout()\n",
    "plt.show()"
   ]
  },
  {
   "cell_type": "markdown",
   "id": "d4230e9e",
   "metadata": {},
   "source": [
    "## Determining Optimal Clusters: Elbow Method\n",
    "The Elbow Method is used to identify the ideal number of clusters by plotting the within-cluster sum of squares (inertia)."
   ]
  },
  {
   "cell_type": "code",
   "execution_count": null,
   "id": "1142f59a",
   "metadata": {},
   "outputs": [],
   "source": [
    "inertia = []\n",
    "for k in range(1, 11):\n",
    "    model = KMeans(n_clusters=k, random_state=42, n_init=10)\n",
    "    model.fit(processed_data)\n",
    "    inertia.append(model.inertia_)\n",
    "\n",
    "plt.figure(figsize=(8, 5))\n",
    "plt.plot(range(1, 11), inertia, marker='o')\n",
    "plt.title('Elbow Method for Optimal k')\n",
    "plt.xlabel('Number of Clusters')\n",
    "plt.ylabel('Inertia')\n",
    "plt.grid(True)\n",
    "plt.show()"
   ]
  },
  {
   "cell_type": "markdown",
   "id": "678d8482",
   "metadata": {},
   "source": [
    "## K-Means Clustering and PCA Visualization\n",
    "We choose 4 clusters based on the elbow plot and visualize the clusters using PCA (Principal Component Analysis)."
   ]
  },
  {
   "cell_type": "code",
   "execution_count": null,
   "id": "de23a2e5",
   "metadata": {},
   "outputs": [],
   "source": [
    "kmeans = KMeans(n_clusters=4, random_state=42, n_init=10)\n",
    "labels = kmeans.fit_predict(processed_data)\n",
    "\n",
    "pca = PCA(n_components=2)\n",
    "pca_data = pca.fit_transform(processed_data)\n",
    "\n",
    "plt.figure(figsize=(10, 6))\n",
    "plt.scatter(pca_data[:, 0], pca_data[:, 1], c=labels, cmap='viridis', s=50)\n",
    "plt.title('Customer Segments Visualized with PCA')\n",
    "plt.xlabel('PCA Component 1')\n",
    "plt.ylabel('PCA Component 2')\n",
    "plt.colorbar(label='Cluster')\n",
    "plt.show()"
   ]
  },
  {
   "cell_type": "markdown",
   "id": "3c65358b",
   "metadata": {},
   "source": [
    "## Conclusion\n",
    "K-Means clustering successfully grouped customers into four meaningful segments based on their attributes. This segmentation can guide targeted marketing strategies and personalized customer service. Further analysis could include profiling each cluster and comparing with actual business outcomes."
   ]
  }
 ],
 "metadata": {},
 "nbformat": 4,
 "nbformat_minor": 5
}
